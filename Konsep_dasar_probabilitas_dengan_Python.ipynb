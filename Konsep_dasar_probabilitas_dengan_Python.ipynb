{
  "nbformat": 4,
  "nbformat_minor": 0,
  "metadata": {
    "colab": {
      "provenance": []
    },
    "kernelspec": {
      "name": "python3",
      "display_name": "Python 3"
    },
    "language_info": {
      "name": "python"
    }
  },
  "cells": [
    {
      "cell_type": "markdown",
      "source": [
        "# **PROBABILITY** **DISTRIBUTIONS**"
      ],
      "metadata": {
        "id": "9KSfDsc-XQTp"
      }
    },
    {
      "cell_type": "markdown",
      "source": [
        "Belajar menggunakan distribusi normal untuk memodelkan data dan juga belajar menghitung skor-z untuk menemukan outlier dalam data. Selain pandas, numpy, dan matplotlib, saya menggunakan dua paket Python: Statistik SciPy dan Statsmodels. \n",
        "\n",
        "**SciPy** adalah perangkat lunak sumber terbuka yang dapat digunakan untuk memecahkan masalah matematika, ilmiah, teknik, dan teknis. Perangkat lunak ini memungkinkan untuk memanipulasi dan memvisualisasikan data dengan berbagai perintah Python. \n",
        "\n",
        "**Statistik SciPy** adalah modul yang dirancang khusus untuk statistik.\n",
        "\n",
        "**Statsmodels** adalah paket Python yang memungkinkan menjelajahi data, bekerja dengan model statistik, dan melakukan tes statistik. Paket ini mencakup daftar ekstensif fungsi statistik untuk berbagai jenis data. \n"
      ],
      "metadata": {
        "id": "RY350t_SXc8b"
      }
    },
    {
      "cell_type": "code",
      "execution_count": 8,
      "metadata": {
        "id": "z78Of3E9XM2S"
      },
      "outputs": [],
      "source": [
        "import numpy as np \n",
        "import pandas as pd \n",
        "import matplotlib.pyplot as plt \n",
        "from scipy import stats\n",
        "import statsmodels.api as sm"
      ]
    },
    {
      "cell_type": "code",
      "source": [
        "from google.colab import drive \n",
        "drive.mount('/content/drive', force_remount=True)\n",
        "%cd /content/drive/MyDrive/education_districtwise\n",
        "!ls"
      ],
      "metadata": {
        "colab": {
          "base_uri": "https://localhost:8080/"
        },
        "id": "tVQHfCfYc2AA",
        "outputId": "eaff9943-972e-4771-daaa-7d8f4f7cd18b"
      },
      "execution_count": 9,
      "outputs": [
        {
          "output_type": "stream",
          "name": "stdout",
          "text": [
            "Mounted at /content/drive\n",
            "/content/drive/MyDrive/education_districtwise\n",
            "'Literacy Data 2011.csv'\n"
          ]
        }
      ]
    },
    {
      "cell_type": "markdown",
      "source": [
        "**Note**: \n",
        "Dapat menggunakan dropna() untuk menghapus nilai yang hilang pada data."
      ],
      "metadata": {
        "id": "ekRGrRtzZ4BS"
      }
    },
    {
      "cell_type": "code",
      "source": [
        "all_data = pd.DataFrame()\n",
        "\n",
        "#load data google drive\n",
        "all_data = pd.DataFrame()\n",
        "df = pd.read_csv('/content/drive/MyDrive/education_districtwise/Literacy Data 2011.csv')\n",
        "all_data = all_data.append(df,ignore_index=True)\n",
        "    \n",
        "df = all_data"
      ],
      "metadata": {
        "colab": {
          "base_uri": "https://localhost:8080/"
        },
        "id": "xV_TzjlBa3JX",
        "outputId": "1016865f-7191-4945-a410-11aa8eac3390"
      },
      "execution_count": 10,
      "outputs": [
        {
          "output_type": "stream",
          "name": "stderr",
          "text": [
            "<ipython-input-10-e16b7726f45b>:6: FutureWarning: The frame.append method is deprecated and will be removed from pandas in a future version. Use pandas.concat instead.\n",
            "  all_data = all_data.append(df,ignore_index=True)\n"
          ]
        }
      ]
    },
    {
      "cell_type": "code",
      "source": [
        "df"
      ],
      "metadata": {
        "colab": {
          "base_uri": "https://localhost:8080/",
          "height": 467
        },
        "id": "y33wTBUzfoXo",
        "outputId": "bcc696c4-07c5-420f-ba56-f72762cdcfa4"
      },
      "execution_count": 11,
      "outputs": [
        {
          "output_type": "execute_result",
          "data": {
            "text/plain": [
              "     Unnamed: 0                     District                         State  \\\n",
              "0             1                        Thane                   Maharashtra   \n",
              "1             2   North Twenty Four Parganas                   West Bengal   \n",
              "2             3                    Bangalore                     Karnataka   \n",
              "3             4                         Pune                   Maharashtra   \n",
              "4             5              Mumbai Suburban                   Maharashtra   \n",
              "..          ...                          ...                           ...   \n",
              "635         636                     Nicobars   Andaman And Nicobar Islands   \n",
              "636         637                  Upper Siang             Arunachal Pradesh   \n",
              "637         638              Lahul and Spiti              Himachal Pradesh   \n",
              "638         639                        Anjaw             Arunachal Pradesh   \n",
              "639         640                Dibang Valley             Arunachal Pradesh   \n",
              "\n",
              "     Literacy  \n",
              "0       84.53  \n",
              "1       84.06  \n",
              "2       87.67  \n",
              "3       86.15  \n",
              "4       89.91  \n",
              "..        ...  \n",
              "635     78.06  \n",
              "636     59.99  \n",
              "637     76.81  \n",
              "638     56.46  \n",
              "639     64.10  \n",
              "\n",
              "[640 rows x 4 columns]"
            ],
            "text/html": [
              "\n",
              "  <div id=\"df-ba9c7b6b-1e56-4851-a209-5e16dc7a83c3\">\n",
              "    <div class=\"colab-df-container\">\n",
              "      <div>\n",
              "<style scoped>\n",
              "    .dataframe tbody tr th:only-of-type {\n",
              "        vertical-align: middle;\n",
              "    }\n",
              "\n",
              "    .dataframe tbody tr th {\n",
              "        vertical-align: top;\n",
              "    }\n",
              "\n",
              "    .dataframe thead th {\n",
              "        text-align: right;\n",
              "    }\n",
              "</style>\n",
              "<table border=\"1\" class=\"dataframe\">\n",
              "  <thead>\n",
              "    <tr style=\"text-align: right;\">\n",
              "      <th></th>\n",
              "      <th>Unnamed: 0</th>\n",
              "      <th>District</th>\n",
              "      <th>State</th>\n",
              "      <th>Literacy</th>\n",
              "    </tr>\n",
              "  </thead>\n",
              "  <tbody>\n",
              "    <tr>\n",
              "      <th>0</th>\n",
              "      <td>1</td>\n",
              "      <td>Thane</td>\n",
              "      <td>Maharashtra</td>\n",
              "      <td>84.53</td>\n",
              "    </tr>\n",
              "    <tr>\n",
              "      <th>1</th>\n",
              "      <td>2</td>\n",
              "      <td>North Twenty Four Parganas</td>\n",
              "      <td>West Bengal</td>\n",
              "      <td>84.06</td>\n",
              "    </tr>\n",
              "    <tr>\n",
              "      <th>2</th>\n",
              "      <td>3</td>\n",
              "      <td>Bangalore</td>\n",
              "      <td>Karnataka</td>\n",
              "      <td>87.67</td>\n",
              "    </tr>\n",
              "    <tr>\n",
              "      <th>3</th>\n",
              "      <td>4</td>\n",
              "      <td>Pune</td>\n",
              "      <td>Maharashtra</td>\n",
              "      <td>86.15</td>\n",
              "    </tr>\n",
              "    <tr>\n",
              "      <th>4</th>\n",
              "      <td>5</td>\n",
              "      <td>Mumbai Suburban</td>\n",
              "      <td>Maharashtra</td>\n",
              "      <td>89.91</td>\n",
              "    </tr>\n",
              "    <tr>\n",
              "      <th>...</th>\n",
              "      <td>...</td>\n",
              "      <td>...</td>\n",
              "      <td>...</td>\n",
              "      <td>...</td>\n",
              "    </tr>\n",
              "    <tr>\n",
              "      <th>635</th>\n",
              "      <td>636</td>\n",
              "      <td>Nicobars</td>\n",
              "      <td>Andaman And Nicobar Islands</td>\n",
              "      <td>78.06</td>\n",
              "    </tr>\n",
              "    <tr>\n",
              "      <th>636</th>\n",
              "      <td>637</td>\n",
              "      <td>Upper Siang</td>\n",
              "      <td>Arunachal Pradesh</td>\n",
              "      <td>59.99</td>\n",
              "    </tr>\n",
              "    <tr>\n",
              "      <th>637</th>\n",
              "      <td>638</td>\n",
              "      <td>Lahul and Spiti</td>\n",
              "      <td>Himachal Pradesh</td>\n",
              "      <td>76.81</td>\n",
              "    </tr>\n",
              "    <tr>\n",
              "      <th>638</th>\n",
              "      <td>639</td>\n",
              "      <td>Anjaw</td>\n",
              "      <td>Arunachal Pradesh</td>\n",
              "      <td>56.46</td>\n",
              "    </tr>\n",
              "    <tr>\n",
              "      <th>639</th>\n",
              "      <td>640</td>\n",
              "      <td>Dibang Valley</td>\n",
              "      <td>Arunachal Pradesh</td>\n",
              "      <td>64.10</td>\n",
              "    </tr>\n",
              "  </tbody>\n",
              "</table>\n",
              "<p>640 rows × 4 columns</p>\n",
              "</div>\n",
              "      <button class=\"colab-df-convert\" onclick=\"convertToInteractive('df-ba9c7b6b-1e56-4851-a209-5e16dc7a83c3')\"\n",
              "              title=\"Convert this dataframe to an interactive table.\"\n",
              "              style=\"display:none;\">\n",
              "        \n",
              "  <svg xmlns=\"http://www.w3.org/2000/svg\" height=\"24px\"viewBox=\"0 0 24 24\"\n",
              "       width=\"24px\">\n",
              "    <path d=\"M0 0h24v24H0V0z\" fill=\"none\"/>\n",
              "    <path d=\"M18.56 5.44l.94 2.06.94-2.06 2.06-.94-2.06-.94-.94-2.06-.94 2.06-2.06.94zm-11 1L8.5 8.5l.94-2.06 2.06-.94-2.06-.94L8.5 2.5l-.94 2.06-2.06.94zm10 10l.94 2.06.94-2.06 2.06-.94-2.06-.94-.94-2.06-.94 2.06-2.06.94z\"/><path d=\"M17.41 7.96l-1.37-1.37c-.4-.4-.92-.59-1.43-.59-.52 0-1.04.2-1.43.59L10.3 9.45l-7.72 7.72c-.78.78-.78 2.05 0 2.83L4 21.41c.39.39.9.59 1.41.59.51 0 1.02-.2 1.41-.59l7.78-7.78 2.81-2.81c.8-.78.8-2.07 0-2.86zM5.41 20L4 18.59l7.72-7.72 1.47 1.35L5.41 20z\"/>\n",
              "  </svg>\n",
              "      </button>\n",
              "      \n",
              "  <style>\n",
              "    .colab-df-container {\n",
              "      display:flex;\n",
              "      flex-wrap:wrap;\n",
              "      gap: 12px;\n",
              "    }\n",
              "\n",
              "    .colab-df-convert {\n",
              "      background-color: #E8F0FE;\n",
              "      border: none;\n",
              "      border-radius: 50%;\n",
              "      cursor: pointer;\n",
              "      display: none;\n",
              "      fill: #1967D2;\n",
              "      height: 32px;\n",
              "      padding: 0 0 0 0;\n",
              "      width: 32px;\n",
              "    }\n",
              "\n",
              "    .colab-df-convert:hover {\n",
              "      background-color: #E2EBFA;\n",
              "      box-shadow: 0px 1px 2px rgba(60, 64, 67, 0.3), 0px 1px 3px 1px rgba(60, 64, 67, 0.15);\n",
              "      fill: #174EA6;\n",
              "    }\n",
              "\n",
              "    [theme=dark] .colab-df-convert {\n",
              "      background-color: #3B4455;\n",
              "      fill: #D2E3FC;\n",
              "    }\n",
              "\n",
              "    [theme=dark] .colab-df-convert:hover {\n",
              "      background-color: #434B5C;\n",
              "      box-shadow: 0px 1px 3px 1px rgba(0, 0, 0, 0.15);\n",
              "      filter: drop-shadow(0px 1px 2px rgba(0, 0, 0, 0.3));\n",
              "      fill: #FFFFFF;\n",
              "    }\n",
              "  </style>\n",
              "\n",
              "      <script>\n",
              "        const buttonEl =\n",
              "          document.querySelector('#df-ba9c7b6b-1e56-4851-a209-5e16dc7a83c3 button.colab-df-convert');\n",
              "        buttonEl.style.display =\n",
              "          google.colab.kernel.accessAllowed ? 'block' : 'none';\n",
              "\n",
              "        async function convertToInteractive(key) {\n",
              "          const element = document.querySelector('#df-ba9c7b6b-1e56-4851-a209-5e16dc7a83c3');\n",
              "          const dataTable =\n",
              "            await google.colab.kernel.invokeFunction('convertToInteractive',\n",
              "                                                     [key], {});\n",
              "          if (!dataTable) return;\n",
              "\n",
              "          const docLinkHtml = 'Like what you see? Visit the ' +\n",
              "            '<a target=\"_blank\" href=https://colab.research.google.com/notebooks/data_table.ipynb>data table notebook</a>'\n",
              "            + ' to learn more about interactive tables.';\n",
              "          element.innerHTML = '';\n",
              "          dataTable['output_type'] = 'display_data';\n",
              "          await google.colab.output.renderOutput(dataTable, element);\n",
              "          const docLink = document.createElement('div');\n",
              "          docLink.innerHTML = docLinkHtml;\n",
              "          element.appendChild(docLink);\n",
              "        }\n",
              "      </script>\n",
              "    </div>\n",
              "  </div>\n",
              "  "
            ]
          },
          "metadata": {},
          "execution_count": 11
        }
      ]
    },
    {
      "cell_type": "markdown",
      "source": [
        "# **1.0.1 Describe()**"
      ],
      "metadata": {
        "id": "7g1ji1d4a5Cv"
      }
    },
    {
      "cell_type": "markdown",
      "source": [
        "Ketika menghitung statistik deskriptif di Python, fungsi yang paling berguna untuk diketahui adalah describe(). Para profesional data menggunakan fungsi describe() sebagai cara yang mudah untuk menghitung banyak statistik kunci sekaligus. Untuk kolom numerik, describe() memberikan Anda keluaran sebagai berikut:\n",
        "- count: Jumlah pengamatan non NA/null\n",
        "- mean: Rata-rata aritmatika\n",
        "- std: Standar deviasi\n",
        "- min: Nilai terkecil (minimum)\n",
        "- 25%: Kuartil pertama (persentil ke-25)\n",
        "- 50%: Median (persentil ke-50)\n",
        "- 75%: Kuartil ketiga (persentil ke-75)\n",
        "1\n",
        "- max: Nilai terbesar (maksimum)"
      ],
      "metadata": {
        "id": "OZBwc3lvbC03"
      }
    },
    {
      "cell_type": "code",
      "source": [
        "df.describe()"
      ],
      "metadata": {
        "colab": {
          "base_uri": "https://localhost:8080/",
          "height": 300
        },
        "id": "HLTVXFbUbSfk",
        "outputId": "b5aec726-bef6-4e27-cc3a-6c72f5935ff4"
      },
      "execution_count": 12,
      "outputs": [
        {
          "output_type": "execute_result",
          "data": {
            "text/plain": [
              "       Unnamed: 0    Literacy\n",
              "count  640.000000  640.000000\n",
              "mean   320.500000   72.308422\n",
              "std    184.896367   10.488816\n",
              "min      1.000000   36.100000\n",
              "25%    160.750000   65.095000\n",
              "50%    320.500000   72.170000\n",
              "75%    480.250000   79.962500\n",
              "max    640.000000   97.910000"
            ],
            "text/html": [
              "\n",
              "  <div id=\"df-ff52db5e-bfae-42ed-86a2-d310dae11150\">\n",
              "    <div class=\"colab-df-container\">\n",
              "      <div>\n",
              "<style scoped>\n",
              "    .dataframe tbody tr th:only-of-type {\n",
              "        vertical-align: middle;\n",
              "    }\n",
              "\n",
              "    .dataframe tbody tr th {\n",
              "        vertical-align: top;\n",
              "    }\n",
              "\n",
              "    .dataframe thead th {\n",
              "        text-align: right;\n",
              "    }\n",
              "</style>\n",
              "<table border=\"1\" class=\"dataframe\">\n",
              "  <thead>\n",
              "    <tr style=\"text-align: right;\">\n",
              "      <th></th>\n",
              "      <th>Unnamed: 0</th>\n",
              "      <th>Literacy</th>\n",
              "    </tr>\n",
              "  </thead>\n",
              "  <tbody>\n",
              "    <tr>\n",
              "      <th>count</th>\n",
              "      <td>640.000000</td>\n",
              "      <td>640.000000</td>\n",
              "    </tr>\n",
              "    <tr>\n",
              "      <th>mean</th>\n",
              "      <td>320.500000</td>\n",
              "      <td>72.308422</td>\n",
              "    </tr>\n",
              "    <tr>\n",
              "      <th>std</th>\n",
              "      <td>184.896367</td>\n",
              "      <td>10.488816</td>\n",
              "    </tr>\n",
              "    <tr>\n",
              "      <th>min</th>\n",
              "      <td>1.000000</td>\n",
              "      <td>36.100000</td>\n",
              "    </tr>\n",
              "    <tr>\n",
              "      <th>25%</th>\n",
              "      <td>160.750000</td>\n",
              "      <td>65.095000</td>\n",
              "    </tr>\n",
              "    <tr>\n",
              "      <th>50%</th>\n",
              "      <td>320.500000</td>\n",
              "      <td>72.170000</td>\n",
              "    </tr>\n",
              "    <tr>\n",
              "      <th>75%</th>\n",
              "      <td>480.250000</td>\n",
              "      <td>79.962500</td>\n",
              "    </tr>\n",
              "    <tr>\n",
              "      <th>max</th>\n",
              "      <td>640.000000</td>\n",
              "      <td>97.910000</td>\n",
              "    </tr>\n",
              "  </tbody>\n",
              "</table>\n",
              "</div>\n",
              "      <button class=\"colab-df-convert\" onclick=\"convertToInteractive('df-ff52db5e-bfae-42ed-86a2-d310dae11150')\"\n",
              "              title=\"Convert this dataframe to an interactive table.\"\n",
              "              style=\"display:none;\">\n",
              "        \n",
              "  <svg xmlns=\"http://www.w3.org/2000/svg\" height=\"24px\"viewBox=\"0 0 24 24\"\n",
              "       width=\"24px\">\n",
              "    <path d=\"M0 0h24v24H0V0z\" fill=\"none\"/>\n",
              "    <path d=\"M18.56 5.44l.94 2.06.94-2.06 2.06-.94-2.06-.94-.94-2.06-.94 2.06-2.06.94zm-11 1L8.5 8.5l.94-2.06 2.06-.94-2.06-.94L8.5 2.5l-.94 2.06-2.06.94zm10 10l.94 2.06.94-2.06 2.06-.94-2.06-.94-.94-2.06-.94 2.06-2.06.94z\"/><path d=\"M17.41 7.96l-1.37-1.37c-.4-.4-.92-.59-1.43-.59-.52 0-1.04.2-1.43.59L10.3 9.45l-7.72 7.72c-.78.78-.78 2.05 0 2.83L4 21.41c.39.39.9.59 1.41.59.51 0 1.02-.2 1.41-.59l7.78-7.78 2.81-2.81c.8-.78.8-2.07 0-2.86zM5.41 20L4 18.59l7.72-7.72 1.47 1.35L5.41 20z\"/>\n",
              "  </svg>\n",
              "      </button>\n",
              "      \n",
              "  <style>\n",
              "    .colab-df-container {\n",
              "      display:flex;\n",
              "      flex-wrap:wrap;\n",
              "      gap: 12px;\n",
              "    }\n",
              "\n",
              "    .colab-df-convert {\n",
              "      background-color: #E8F0FE;\n",
              "      border: none;\n",
              "      border-radius: 50%;\n",
              "      cursor: pointer;\n",
              "      display: none;\n",
              "      fill: #1967D2;\n",
              "      height: 32px;\n",
              "      padding: 0 0 0 0;\n",
              "      width: 32px;\n",
              "    }\n",
              "\n",
              "    .colab-df-convert:hover {\n",
              "      background-color: #E2EBFA;\n",
              "      box-shadow: 0px 1px 2px rgba(60, 64, 67, 0.3), 0px 1px 3px 1px rgba(60, 64, 67, 0.15);\n",
              "      fill: #174EA6;\n",
              "    }\n",
              "\n",
              "    [theme=dark] .colab-df-convert {\n",
              "      background-color: #3B4455;\n",
              "      fill: #D2E3FC;\n",
              "    }\n",
              "\n",
              "    [theme=dark] .colab-df-convert:hover {\n",
              "      background-color: #434B5C;\n",
              "      box-shadow: 0px 1px 3px 1px rgba(0, 0, 0, 0.15);\n",
              "      filter: drop-shadow(0px 1px 2px rgba(0, 0, 0, 0.3));\n",
              "      fill: #FFFFFF;\n",
              "    }\n",
              "  </style>\n",
              "\n",
              "      <script>\n",
              "        const buttonEl =\n",
              "          document.querySelector('#df-ff52db5e-bfae-42ed-86a2-d310dae11150 button.colab-df-convert');\n",
              "        buttonEl.style.display =\n",
              "          google.colab.kernel.accessAllowed ? 'block' : 'none';\n",
              "\n",
              "        async function convertToInteractive(key) {\n",
              "          const element = document.querySelector('#df-ff52db5e-bfae-42ed-86a2-d310dae11150');\n",
              "          const dataTable =\n",
              "            await google.colab.kernel.invokeFunction('convertToInteractive',\n",
              "                                                     [key], {});\n",
              "          if (!dataTable) return;\n",
              "\n",
              "          const docLinkHtml = 'Like what you see? Visit the ' +\n",
              "            '<a target=\"_blank\" href=https://colab.research.google.com/notebooks/data_table.ipynb>data table notebook</a>'\n",
              "            + ' to learn more about interactive tables.';\n",
              "          element.innerHTML = '';\n",
              "          dataTable['output_type'] = 'display_data';\n",
              "          await google.colab.output.renderOutput(dataTable, element);\n",
              "          const docLink = document.createElement('div');\n",
              "          docLink.innerHTML = docLinkHtml;\n",
              "          element.appendChild(docLink);\n",
              "        }\n",
              "      </script>\n",
              "    </div>\n",
              "  </div>\n",
              "  "
            ]
          },
          "metadata": {},
          "execution_count": 12
        }
      ]
    },
    {
      "cell_type": "markdown",
      "source": [
        "# **1.0.2 Range**"
      ],
      "metadata": {
        "id": "09UbiZDHbz9o"
      }
    },
    {
      "cell_type": "markdown",
      "source": [
        "**Rentang** adalah perbedaan antara nilai terbesar dan terkecil dalam kumpulan data. Dengan kata lain, rentang = maks - min.  Dapat juga menggunakan max() dan min() untuk menghitung rentang untuk tingkat melek huruf dari semua kabupaten/kota dalam set data.\n"
      ],
      "metadata": {
        "id": "0gzP_MkLgVq0"
      }
    },
    {
      "cell_type": "code",
      "source": [
        "range_overall_li = df['Literacy'].max() - df['Literacy'].min()\n",
        "range_overall_li"
      ],
      "metadata": {
        "colab": {
          "base_uri": "https://localhost:8080/"
        },
        "id": "Bc9fW3F-g3sg",
        "outputId": "851f98cc-950c-4c2c-9b39-98e7626f31bf"
      },
      "execution_count": 13,
      "outputs": [
        {
          "output_type": "execute_result",
          "data": {
            "text/plain": [
              "61.809999999999995"
            ]
          },
          "metadata": {},
          "execution_count": 13
        }
      ]
    },
    {
      "cell_type": "code",
      "source": [
        "df.columns"
      ],
      "metadata": {
        "colab": {
          "base_uri": "https://localhost:8080/"
        },
        "id": "UBmvOyM0hfjf",
        "outputId": "208d8ac0-4cfb-408f-d092-ecd21a5ff6db"
      },
      "execution_count": 14,
      "outputs": [
        {
          "output_type": "execute_result",
          "data": {
            "text/plain": [
              "Index(['Unnamed: 0', 'District', 'State', 'Literacy'], dtype='object')"
            ]
          },
          "metadata": {},
          "execution_count": 14
        }
      ]
    },
    {
      "cell_type": "code",
      "source": [
        "df.isnull().sum()"
      ],
      "metadata": {
        "colab": {
          "base_uri": "https://localhost:8080/"
        },
        "id": "LkFHbU_2hjjc",
        "outputId": "142c7c35-eaf2-4978-dfee-89aa1bec8557"
      },
      "execution_count": 15,
      "outputs": [
        {
          "output_type": "execute_result",
          "data": {
            "text/plain": [
              "Unnamed: 0    0\n",
              "District      0\n",
              "State         0\n",
              "Literacy      0\n",
              "dtype: int64"
            ]
          },
          "metadata": {},
          "execution_count": 15
        }
      ]
    },
    {
      "cell_type": "code",
      "source": [
        "df['State'].value_counts().plot.bar()"
      ],
      "metadata": {
        "colab": {
          "base_uri": "https://localhost:8080/",
          "height": 647
        },
        "id": "mVRsgwyBho08",
        "outputId": "1aa7c61e-050e-45b2-c0d4-f6083f9b7f9a"
      },
      "execution_count": 16,
      "outputs": [
        {
          "output_type": "execute_result",
          "data": {
            "text/plain": [
              "<Axes: >"
            ]
          },
          "metadata": {},
          "execution_count": 16
        },
        {
          "output_type": "display_data",
          "data": {
            "text/plain": [
              "<Figure size 640x480 with 1 Axes>"
            ],
            "image/png": "[encoded data removed]"
          },
          "metadata": {}
        }
      ]
    },
    {
      "cell_type": "code",
      "source": [
        "df.groupby('State')['Literacy'].value_counts()"
      ],
      "metadata": {
        "colab": {
          "base_uri": "https://localhost:8080/"
        },
        "id": "WPwdoM5iibrb",
        "outputId": "53e7947d-509f-428f-fe85-8c63e062299a"
      },
      "execution_count": 17,
      "outputs": [
        {
          "output_type": "execute_result",
          "data": {
            "text/plain": [
              "State                         Literacy\n",
              " Andaman And Nicobar Islands  78.06       1\n",
              "                              83.91       1\n",
              "                              89.13       1\n",
              " Andhra Pradesh               55.04       1\n",
              "                              58.89       1\n",
              "                                         ..\n",
              " West Bengal                  81.80       1\n",
              "                              83.31       1\n",
              "                              84.06       1\n",
              "                              86.31       1\n",
              "                              87.02       1\n",
              "Name: Literacy, Length: 637, dtype: int64"
            ]
          },
          "metadata": {},
          "execution_count": 17
        }
      ]
    },
    {
      "cell_type": "markdown",
      "source": [
        "# **1.1 Memodelkan data Anda dengan distribusi probabilitas**"
      ],
      "metadata": {
        "id": "cQLueiTSi4HX"
      }
    },
    {
      "cell_type": "markdown",
      "source": [
        "Studi Kasus, Anda adalah seorang profesional data yang bekerja untuk departemen pendidikan di sebuah negara besar. Saya menganalisis data tentang tingkat melek huruf untuk setiap distrik, dan telah menghitung statistik deskriptif untuk meringkas data. Untuk bagian analisis selanjutnya, saya akan mencari tahu apakah data tingkat melek huruf di suatu kabupaten sesuai dengan jenis distribusi probabilitas tertentu."
      ],
      "metadata": {
        "id": "TH6ZTV8BjCih"
      }
    },
    {
      "cell_type": "markdown",
      "source": [
        "## **1.1.1 Membuat plot histogram**"
      ],
      "metadata": {
        "id": "jxyl10s5jbYh"
      }
    },
    {
      "cell_type": "markdown",
      "source": [
        "Langkah pertama dalam mencoba memodelkan data dengan distribusi probabilitas adalah memplot histogram. Ini akan membantu memvisualisasikan bentuk data dan menentukan apakah data tersebut menyerupai bentuk distribusi tertentu. \n",
        "\n",
        "Gunakan fungsi histogram matplotlib untuk memplot histogram dari data tingkat melek huruf di suatu kabupaten. Ingat bahwa kolom Literacy berisi data ini."
      ],
      "metadata": {
        "id": "hO8kw8Edjj4X"
      }
    },
    {
      "cell_type": "code",
      "source": [
        "df['Literacy'].hist(bins=20)"
      ],
      "metadata": {
        "colab": {
          "base_uri": "https://localhost:8080/",
          "height": 448
        },
        "id": "t_jFlSbuj3zB",
        "outputId": "952e360b-8a6a-48b7-964d-2bf5707c7b0a"
      },
      "execution_count": 18,
      "outputs": [
        {
          "output_type": "execute_result",
          "data": {
            "text/plain": [
              "<Axes: >"
            ]
          },
          "metadata": {},
          "execution_count": 18
        },
        {
          "output_type": "display_data",
          "data": {
            "text/plain": [
              "<Figure size 640x480 with 1 Axes>"
            ],
            "image/png": "[encoded data removed]"
          },
          "metadata": {}
        }
      ]
    },
    {
      "cell_type": "markdown",
      "source": [
        "## **1.1.2 Distribusi normal**"
      ],
      "metadata": {
        "id": "yEE_DVoelcQb"
      }
    },
    {
      "cell_type": "markdown",
      "source": [
        "**Histogram** menunjukkan bahwa distribusi data tingkat melek huruf berbentuk lonceng dan simetris terhadap rata-rata. Rata-rata tingkat melek huruf, yaitu sekitar 73%, terletak di tengah plot. Ingatlah bahwa **distribusi normal** adalah distribusi probabilitas kontinu yang berbentuk lonceng\n",
        "dan simetris di kedua sisi rata-rata. Bentuk histogram Anda menunjukkan bahwa distribusi normal distribusi normal mungkin merupakan pilihan pemodelan yang baik untuk data Anda."
      ],
      "metadata": {
        "id": "2cLlJng6koMV"
      }
    },
    {
      "cell_type": "markdown",
      "source": [
        "## **1.1.3 Aturan empiris**"
      ],
      "metadata": {
        "id": "UvRIYZCRlEMX"
      }
    },
    {
      "cell_type": "markdown",
      "source": [
        "Karena distribusi normal tampaknya cocok untuk data tingkat melek huruf kabupaten dapat mengharapkan aturan empiris berlaku relatif baik. Ingat bahwa aturan empiris mengatakan bahwa untuk distribusi normal:\n",
        "- 68% dari nilai berada dalam +/- 1 SD dari rata-rata\n",
        "- 95% nilai berada dalam rentang +/- 2 SD dari rata-rata\n",
        "- 99,7% nilai berada dalam +/- 3 SD dari rata-rata\n",
        "\n",
        "(**Note**: \"SD\" adalah singkatan dari standar deviasi)\n",
        "\n",
        "Dengan kata lain, Anda dapat mengharapkan sekitar:\n",
        "- 68% dari tingkat literasi kabupaten akan berada dalam +/- 1 SD dari rata-rata\n",
        "- 95% dari tingkat literasi kabupaten akan berada dalam +/- 2 SD dari rata-rata\n",
        "- 99,7% dari tingkat literasi kabupaten akan berada dalam +/- 3 SD dari rata-rata.\n",
        "\n",
        "Pertama, beri nama dua variabel baru untuk menyimpan nilai rata-rata dan standar deviasi kabupaten tingkat melek huruf kabupaten: mean_literacy dan std_literacy."
      ],
      "metadata": {
        "id": "3yAljTkwloXr"
      }
    },
    {
      "cell_type": "code",
      "source": [
        "mean_literacy = df['Literacy'].mean()\n",
        "mean_literacy"
      ],
      "metadata": {
        "colab": {
          "base_uri": "https://localhost:8080/"
        },
        "id": "tTdPjEzRmbQU",
        "outputId": "4570fa8c-13e6-4053-9827-8c30f523a7b3"
      },
      "execution_count": 19,
      "outputs": [
        {
          "output_type": "execute_result",
          "data": {
            "text/plain": [
              "72.308421875"
            ]
          },
          "metadata": {},
          "execution_count": 19
        }
      ]
    },
    {
      "cell_type": "markdown",
      "source": [
        "Tingkat melek huruf rata-rata di kabupaten ini adalah sekitar 72,3%."
      ],
      "metadata": {
        "id": "rgmgxQSTmqgP"
      }
    },
    {
      "cell_type": "code",
      "source": [
        "std_literacy = df['Literacy'].std()\n",
        "std_literacy"
      ],
      "metadata": {
        "colab": {
          "base_uri": "https://localhost:8080/"
        },
        "id": "ETD6V2znmpNH",
        "outputId": "4f99e40c-99ed-4328-cacb-b27b7c885736"
      },
      "execution_count": 20,
      "outputs": [
        {
          "output_type": "execute_result",
          "data": {
            "text/plain": [
              "10.488815587815504"
            ]
          },
          "metadata": {},
          "execution_count": 20
        }
      ]
    },
    {
      "cell_type": "markdown",
      "source": [
        "Deviasi standar sekitar 10%."
      ],
      "metadata": {
        "id": "1ZIsBKB4nF2l"
      }
    },
    {
      "cell_type": "markdown",
      "source": [
        "Sekarang, persentase aktual dari tingkat literasi distrik yang berada dalam +/- 1 SD dari rata-rata.\n",
        "\n",
        "Untuk melakukan ini, pertama-tama beri nama dua variabel baru: batas_bawah dan batas_atas. Batas bawah akan\n",
        "akan menjadi satu SD di bawah rata-rata, atau rata-rata - (1 * SD). Batas atas akan menjadi satu SD di atas\n",
        "rata-rata, atau rata-rata + (1 * SD). Untuk menulis kode untuk perhitungan, dua variabel sebelumnya, mean_literacy dan std_literacy, untuk mean dan standar deviasi.\n",
        "\n",
        "Kemudian, tambahkan baris kode baru yang memberi tahu komputer untuk memutuskan apakah setiap nilai dalam kolom Literasi berada di antara batas bawah dan batas atas. Untuk melakukan hal ini, gunakan operator relasional lebih besar dari atau sama dengan (>=) dan kurang dari atau sama dengan (<=), dan operator bitwise AND (&). Terakhir, menggunakan mean() untuk membagi jumlah nilai yang berada dalam 1 SD dari mean dengan jumlah total nilai."
      ],
      "metadata": {
        "id": "nimAKiBonLfC"
      }
    },
    {
      "cell_type": "code",
      "source": [
        "lower_limit = mean_literacy - 1 * std_literacy\n",
        "upper_limit = mean_literacy + 1 * std_literacy\n",
        "((df['Literacy'] >= lower_limit)&(df['Literacy'] <= upper_limit)).mean()"
      ],
      "metadata": {
        "colab": {
          "base_uri": "https://localhost:8080/"
        },
        "id": "l0x5ZyeioBIO",
        "outputId": "f626de0f-06dd-437c-aca7-c89fd9f51bab"
      },
      "execution_count": 21,
      "outputs": [
        {
          "output_type": "execute_result",
          "data": {
            "text/plain": [
              "0.6578125"
            ]
          },
          "metadata": {},
          "execution_count": 21
        }
      ]
    },
    {
      "cell_type": "markdown",
      "source": [
        "Selanjutnya, gunakan struktur kode yang sama untuk menghitung persentase aktual tingkat literasi kabupaten yang\n",
        "berada dalam rentang +/- 2 SD dari rata-rata."
      ],
      "metadata": {
        "id": "WTa9jBY_pt9N"
      }
    },
    {
      "cell_type": "code",
      "source": [
        "lower_limit = mean_literacy - 2 * std_literacy\n",
        "upper_limit = mean_literacy + 2 * std_literacy\n",
        "((df['Literacy'] >= lower_limit)&(df['Literacy'] <= upper_limit)).mean()"
      ],
      "metadata": {
        "colab": {
          "base_uri": "https://localhost:8080/"
        },
        "id": "fOIEE1Tpp22l",
        "outputId": "15853a04-bca1-47e3-b77a-950f5d89d508"
      },
      "execution_count": null,
      "outputs": [
        {
          "output_type": "execute_result",
          "data": {
            "text/plain": [
              "0.9515625"
            ]
          },
          "metadata": {},
          "execution_count": 37
        }
      ]
    },
    {
      "cell_type": "markdown",
      "source": [
        "Terakhir, gunakan struktur kode yang sama untuk menghitung persentase aktual tingkat literasi kabupaten yang\n",
        "berada dalam rentang +/- 3 SD dari rata-rata."
      ],
      "metadata": {
        "id": "G_5phqfUqD6l"
      }
    },
    {
      "cell_type": "code",
      "source": [
        "lower_limit = mean_literacy - 3 * std_literacy\n",
        "upper_limit = mean_literacy + 3 * std_literacy\n",
        "((df['Literacy'] >= lower_limit)&(df['Literacy'] <= upper_limit)).mean()"
      ],
      "metadata": {
        "colab": {
          "base_uri": "https://localhost:8080/"
        },
        "id": "PpMl0evo9g-2",
        "outputId": "7a8f154b-729e-453a-a8b0-868ef02b6ab3"
      },
      "execution_count": 22,
      "outputs": [
        {
          "output_type": "execute_result",
          "data": {
            "text/plain": [
              "0.9984375"
            ]
          },
          "metadata": {},
          "execution_count": 22
        }
      ]
    },
    {
      "cell_type": "markdown",
      "source": [
        "Nilai-nilai tersebut cukup sesuai dengan aturan empiris!\n",
        "\n",
        "Nilai 66,4%, 95,4%, dan 99,6% sangat dekat dengan nilai yang disarankan oleh aturan empiris: sekitar 68%, 95%, dan 99,7%.\n",
        "Mengetahui bahwa data terdistribusi secara normal berguna untuk analisis karena banyak tes statistik dan model pembelajaran mesin mengasumsikan distribusi normal. Selain itu, ketika data mengikuti distribusi normal, Anda dapat menggunakan skor z untuk mengukur posisi relatif nilai dan menemukan pencilan dalam data"
      ],
      "metadata": {
        "id": "nIeyWbq49qDn"
      }
    },
    {
      "cell_type": "markdown",
      "source": [
        "## **1.2 Compute z-scores to find outliers**"
      ],
      "metadata": {
        "id": "5wU6Wto9-rPM"
      }
    },
    {
      "cell_type": "markdown",
      "source": [
        "**Skor-z** adalah ukuran berapa banyak deviasi standar di bawah atau di atas rata-rata populasi dari suatu titik data. Skor-z berguna karena memberi tahu di mana letak suatu nilai dalam suatu distribusi. Para profesional data sering menggunakan z-skor untuk mendeteksi outliners. Biasanya, mereka menganggap pengamatan dengan z-score lebih kecil dari -3 atau lebih besar dari +3 sebagai outliners. Dengan kata lain, ini adalah nilai yang terletak lebih dari +/- 3 SD dari rata-rata. Untuk menemukan outliners dalam data, pertama-tama buat kolom baru bernama Z_SCORE yang berisi skor-z untuk untuk setiap tingkat literasi kabupaten dalam set data. Ingat bahwa kolom Literacy mencantumkan semua kabupaten/kota tingkat melek huruf.\n",
        "\n",
        "Kemudian menghitung skor-z menggunakan fungsi scipy.stats.zscore()"
      ],
      "metadata": {
        "id": "TFQ7bkd9-w3o"
      }
    },
    {
      "cell_type": "code",
      "source": [
        "df['Z_SCORE'] = stats .zscore(df['Literacy'])\n",
        "df"
      ],
      "metadata": {
        "colab": {
          "base_uri": "https://localhost:8080/",
          "height": 519
        },
        "id": "cUd6ialH_muh",
        "outputId": "1f647c0b-7aca-4829-9a4d-1d94b2917d34"
      },
      "execution_count": 25,
      "outputs": [
        {
          "output_type": "execute_result",
          "data": {
            "text/plain": [
              "     Unnamed: 0                     District                         State  \\\n",
              "0             1                        Thane                   Maharashtra   \n",
              "1             2   North Twenty Four Parganas                   West Bengal   \n",
              "2             3                    Bangalore                     Karnataka   \n",
              "3             4                         Pune                   Maharashtra   \n",
              "4             5              Mumbai Suburban                   Maharashtra   \n",
              "..          ...                          ...                           ...   \n",
              "635         636                     Nicobars   Andaman And Nicobar Islands   \n",
              "636         637                  Upper Siang             Arunachal Pradesh   \n",
              "637         638              Lahul and Spiti              Himachal Pradesh   \n",
              "638         639                        Anjaw             Arunachal Pradesh   \n",
              "639         640                Dibang Valley             Arunachal Pradesh   \n",
              "\n",
              "     Literacy   Z_SCORE  \n",
              "0       84.53  1.166112  \n",
              "1       84.06  1.121268  \n",
              "2       87.67  1.465713  \n",
              "3       86.15  1.320683  \n",
              "4       89.91  1.679441  \n",
              "..        ...       ...  \n",
              "635     78.06  0.548782  \n",
              "636     59.99 -1.175353  \n",
              "637     76.81  0.429515  \n",
              "638     56.46 -1.512165  \n",
              "639     64.10 -0.783200  \n",
              "\n",
              "[640 rows x 5 columns]"
            ],
            "text/html": [
              "\n",
              "  <div id=\"df-53c41d4f-d318-41ae-a9b4-8ab2210f2985\">\n",
              "    <div class=\"colab-df-container\">\n",
              "      <div>\n",
              "<style scoped>\n",
              "    .dataframe tbody tr th:only-of-type {\n",
              "        vertical-align: middle;\n",
              "    }\n",
              "\n",
              "    .dataframe tbody tr th {\n",
              "        vertical-align: top;\n",
              "    }\n",
              "\n",
              "    .dataframe thead th {\n",
              "        text-align: right;\n",
              "    }\n",
              "</style>\n",
              "<table border=\"1\" class=\"dataframe\">\n",
              "  <thead>\n",
              "    <tr style=\"text-align: right;\">\n",
              "      <th></th>\n",
              "      <th>Unnamed: 0</th>\n",
              "      <th>District</th>\n",
              "      <th>State</th>\n",
              "      <th>Literacy</th>\n",
              "      <th>Z_SCORE</th>\n",
              "    </tr>\n",
              "  </thead>\n",
              "  <tbody>\n",
              "    <tr>\n",
              "      <th>0</th>\n",
              "      <td>1</td>\n",
              "      <td>Thane</td>\n",
              "      <td>Maharashtra</td>\n",
              "      <td>84.53</td>\n",
              "      <td>1.166112</td>\n",
              "    </tr>\n",
              "    <tr>\n",
              "      <th>1</th>\n",
              "      <td>2</td>\n",
              "      <td>North Twenty Four Parganas</td>\n",
              "      <td>West Bengal</td>\n",
              "      <td>84.06</td>\n",
              "      <td>1.121268</td>\n",
              "    </tr>\n",
              "    <tr>\n",
              "      <th>2</th>\n",
              "      <td>3</td>\n",
              "      <td>Bangalore</td>\n",
              "      <td>Karnataka</td>\n",
              "      <td>87.67</td>\n",
              "      <td>1.465713</td>\n",
              "    </tr>\n",
              "    <tr>\n",
              "      <th>3</th>\n",
              "      <td>4</td>\n",
              "      <td>Pune</td>\n",
              "      <td>Maharashtra</td>\n",
              "      <td>86.15</td>\n",
              "      <td>1.320683</td>\n",
              "    </tr>\n",
              "    <tr>\n",
              "      <th>4</th>\n",
              "      <td>5</td>\n",
              "      <td>Mumbai Suburban</td>\n",
              "      <td>Maharashtra</td>\n",
              "      <td>89.91</td>\n",
              "      <td>1.679441</td>\n",
              "    </tr>\n",
              "    <tr>\n",
              "      <th>...</th>\n",
              "      <td>...</td>\n",
              "      <td>...</td>\n",
              "      <td>...</td>\n",
              "      <td>...</td>\n",
              "      <td>...</td>\n",
              "    </tr>\n",
              "    <tr>\n",
              "      <th>635</th>\n",
              "      <td>636</td>\n",
              "      <td>Nicobars</td>\n",
              "      <td>Andaman And Nicobar Islands</td>\n",
              "      <td>78.06</td>\n",
              "      <td>0.548782</td>\n",
              "    </tr>\n",
              "    <tr>\n",
              "      <th>636</th>\n",
              "      <td>637</td>\n",
              "      <td>Upper Siang</td>\n",
              "      <td>Arunachal Pradesh</td>\n",
              "      <td>59.99</td>\n",
              "      <td>-1.175353</td>\n",
              "    </tr>\n",
              "    <tr>\n",
              "      <th>637</th>\n",
              "      <td>638</td>\n",
              "      <td>Lahul and Spiti</td>\n",
              "      <td>Himachal Pradesh</td>\n",
              "      <td>76.81</td>\n",
              "      <td>0.429515</td>\n",
              "    </tr>\n",
              "    <tr>\n",
              "      <th>638</th>\n",
              "      <td>639</td>\n",
              "      <td>Anjaw</td>\n",
              "      <td>Arunachal Pradesh</td>\n",
              "      <td>56.46</td>\n",
              "      <td>-1.512165</td>\n",
              "    </tr>\n",
              "    <tr>\n",
              "      <th>639</th>\n",
              "      <td>640</td>\n",
              "      <td>Dibang Valley</td>\n",
              "      <td>Arunachal Pradesh</td>\n",
              "      <td>64.10</td>\n",
              "      <td>-0.783200</td>\n",
              "    </tr>\n",
              "  </tbody>\n",
              "</table>\n",
              "<p>640 rows × 5 columns</p>\n",
              "</div>\n",
              "      <button class=\"colab-df-convert\" onclick=\"convertToInteractive('df-53c41d4f-d318-41ae-a9b4-8ab2210f2985')\"\n",
              "              title=\"Convert this dataframe to an interactive table.\"\n",
              "              style=\"display:none;\">\n",
              "        \n",
              "  <svg xmlns=\"http://www.w3.org/2000/svg\" height=\"24px\"viewBox=\"0 0 24 24\"\n",
              "       width=\"24px\">\n",
              "    <path d=\"M0 0h24v24H0V0z\" fill=\"none\"/>\n",
              "    <path d=\"M18.56 5.44l.94 2.06.94-2.06 2.06-.94-2.06-.94-.94-2.06-.94 2.06-2.06.94zm-11 1L8.5 8.5l.94-2.06 2.06-.94-2.06-.94L8.5 2.5l-.94 2.06-2.06.94zm10 10l.94 2.06.94-2.06 2.06-.94-2.06-.94-.94-2.06-.94 2.06-2.06.94z\"/><path d=\"M17.41 7.96l-1.37-1.37c-.4-.4-.92-.59-1.43-.59-.52 0-1.04.2-1.43.59L10.3 9.45l-7.72 7.72c-.78.78-.78 2.05 0 2.83L4 21.41c.39.39.9.59 1.41.59.51 0 1.02-.2 1.41-.59l7.78-7.78 2.81-2.81c.8-.78.8-2.07 0-2.86zM5.41 20L4 18.59l7.72-7.72 1.47 1.35L5.41 20z\"/>\n",
              "  </svg>\n",
              "      </button>\n",
              "      \n",
              "  <style>\n",
              "    .colab-df-container {\n",
              "      display:flex;\n",
              "      flex-wrap:wrap;\n",
              "      gap: 12px;\n",
              "    }\n",
              "\n",
              "    .colab-df-convert {\n",
              "      background-color: #E8F0FE;\n",
              "      border: none;\n",
              "      border-radius: 50%;\n",
              "      cursor: pointer;\n",
              "      display: none;\n",
              "      fill: #1967D2;\n",
              "      height: 32px;\n",
              "      padding: 0 0 0 0;\n",
              "      width: 32px;\n",
              "    }\n",
              "\n",
              "    .colab-df-convert:hover {\n",
              "      background-color: #E2EBFA;\n",
              "      box-shadow: 0px 1px 2px rgba(60, 64, 67, 0.3), 0px 1px 3px 1px rgba(60, 64, 67, 0.15);\n",
              "      fill: #174EA6;\n",
              "    }\n",
              "\n",
              "    [theme=dark] .colab-df-convert {\n",
              "      background-color: #3B4455;\n",
              "      fill: #D2E3FC;\n",
              "    }\n",
              "\n",
              "    [theme=dark] .colab-df-convert:hover {\n",
              "      background-color: #434B5C;\n",
              "      box-shadow: 0px 1px 3px 1px rgba(0, 0, 0, 0.15);\n",
              "      filter: drop-shadow(0px 1px 2px rgba(0, 0, 0, 0.3));\n",
              "      fill: #FFFFFF;\n",
              "    }\n",
              "  </style>\n",
              "\n",
              "      <script>\n",
              "        const buttonEl =\n",
              "          document.querySelector('#df-53c41d4f-d318-41ae-a9b4-8ab2210f2985 button.colab-df-convert');\n",
              "        buttonEl.style.display =\n",
              "          google.colab.kernel.accessAllowed ? 'block' : 'none';\n",
              "\n",
              "        async function convertToInteractive(key) {\n",
              "          const element = document.querySelector('#df-53c41d4f-d318-41ae-a9b4-8ab2210f2985');\n",
              "          const dataTable =\n",
              "            await google.colab.kernel.invokeFunction('convertToInteractive',\n",
              "                                                     [key], {});\n",
              "          if (!dataTable) return;\n",
              "\n",
              "          const docLinkHtml = 'Like what you see? Visit the ' +\n",
              "            '<a target=\"_blank\" href=https://colab.research.google.com/notebooks/data_table.ipynb>data table notebook</a>'\n",
              "            + ' to learn more about interactive tables.';\n",
              "          element.innerHTML = '';\n",
              "          dataTable['output_type'] = 'display_data';\n",
              "          await google.colab.output.renderOutput(dataTable, element);\n",
              "          const docLink = document.createElement('div');\n",
              "          docLink.innerHTML = docLinkHtml;\n",
              "          element.appendChild(docLink);\n",
              "        }\n",
              "      </script>\n",
              "    </div>\n",
              "  </div>\n",
              "  "
            ]
          },
          "metadata": {},
          "execution_count": 25
        }
      ]
    },
    {
      "cell_type": "markdown",
      "source": [
        "Sekarang setelah menghitung nilai-z untuk set data, berikut adalah beberapa kode untuk mengidentifikasi outliners, atau kabupaten dengan nilai-z yang lebih dari +/- 3 SD dari rata-rata. Gunakan operator relasional lebih besar dari (>) dan kurang dari (<), dan operator bitwise OR (|)."
      ],
      "metadata": {
        "id": "s9HAawZRDTUR"
      }
    },
    {
      "cell_type": "code",
      "source": [
        "df[(df['Z_SCORE'] > 3) | (df['Z_SCORE'] < -3)]"
      ],
      "metadata": {
        "colab": {
          "base_uri": "https://localhost:8080/",
          "height": 112
        },
        "id": "dW6usIOpDiRz",
        "outputId": "a8e0fdff-429f-4bd3-e14a-d8894d869fbc"
      },
      "execution_count": 28,
      "outputs": [
        {
          "output_type": "execute_result",
          "data": {
            "text/plain": [
              "     Unnamed: 0    District            State  Literacy   Z_SCORE\n",
              "497         498   Alirajpur   Madhya Pradesh     36.10 -3.454798\n",
              "580         581     Bijapur     Chhattisgarh     40.86 -3.000627"
            ],
            "text/html": [
              "\n",
              "  <div id=\"df-bf2e2b3a-e655-4102-814a-a92402b1c6b7\">\n",
              "    <div class=\"colab-df-container\">\n",
              "      <div>\n",
              "<style scoped>\n",
              "    .dataframe tbody tr th:only-of-type {\n",
              "        vertical-align: middle;\n",
              "    }\n",
              "\n",
              "    .dataframe tbody tr th {\n",
              "        vertical-align: top;\n",
              "    }\n",
              "\n",
              "    .dataframe thead th {\n",
              "        text-align: right;\n",
              "    }\n",
              "</style>\n",
              "<table border=\"1\" class=\"dataframe\">\n",
              "  <thead>\n",
              "    <tr style=\"text-align: right;\">\n",
              "      <th></th>\n",
              "      <th>Unnamed: 0</th>\n",
              "      <th>District</th>\n",
              "      <th>State</th>\n",
              "      <th>Literacy</th>\n",
              "      <th>Z_SCORE</th>\n",
              "    </tr>\n",
              "  </thead>\n",
              "  <tbody>\n",
              "    <tr>\n",
              "      <th>497</th>\n",
              "      <td>498</td>\n",
              "      <td>Alirajpur</td>\n",
              "      <td>Madhya Pradesh</td>\n",
              "      <td>36.10</td>\n",
              "      <td>-3.454798</td>\n",
              "    </tr>\n",
              "    <tr>\n",
              "      <th>580</th>\n",
              "      <td>581</td>\n",
              "      <td>Bijapur</td>\n",
              "      <td>Chhattisgarh</td>\n",
              "      <td>40.86</td>\n",
              "      <td>-3.000627</td>\n",
              "    </tr>\n",
              "  </tbody>\n",
              "</table>\n",
              "</div>\n",
              "      <button class=\"colab-df-convert\" onclick=\"convertToInteractive('df-bf2e2b3a-e655-4102-814a-a92402b1c6b7')\"\n",
              "              title=\"Convert this dataframe to an interactive table.\"\n",
              "              style=\"display:none;\">\n",
              "        \n",
              "  <svg xmlns=\"http://www.w3.org/2000/svg\" height=\"24px\"viewBox=\"0 0 24 24\"\n",
              "       width=\"24px\">\n",
              "    <path d=\"M0 0h24v24H0V0z\" fill=\"none\"/>\n",
              "    <path d=\"M18.56 5.44l.94 2.06.94-2.06 2.06-.94-2.06-.94-.94-2.06-.94 2.06-2.06.94zm-11 1L8.5 8.5l.94-2.06 2.06-.94-2.06-.94L8.5 2.5l-.94 2.06-2.06.94zm10 10l.94 2.06.94-2.06 2.06-.94-2.06-.94-.94-2.06-.94 2.06-2.06.94z\"/><path d=\"M17.41 7.96l-1.37-1.37c-.4-.4-.92-.59-1.43-.59-.52 0-1.04.2-1.43.59L10.3 9.45l-7.72 7.72c-.78.78-.78 2.05 0 2.83L4 21.41c.39.39.9.59 1.41.59.51 0 1.02-.2 1.41-.59l7.78-7.78 2.81-2.81c.8-.78.8-2.07 0-2.86zM5.41 20L4 18.59l7.72-7.72 1.47 1.35L5.41 20z\"/>\n",
              "  </svg>\n",
              "      </button>\n",
              "      \n",
              "  <style>\n",
              "    .colab-df-container {\n",
              "      display:flex;\n",
              "      flex-wrap:wrap;\n",
              "      gap: 12px;\n",
              "    }\n",
              "\n",
              "    .colab-df-convert {\n",
              "      background-color: #E8F0FE;\n",
              "      border: none;\n",
              "      border-radius: 50%;\n",
              "      cursor: pointer;\n",
              "      display: none;\n",
              "      fill: #1967D2;\n",
              "      height: 32px;\n",
              "      padding: 0 0 0 0;\n",
              "      width: 32px;\n",
              "    }\n",
              "\n",
              "    .colab-df-convert:hover {\n",
              "      background-color: #E2EBFA;\n",
              "      box-shadow: 0px 1px 2px rgba(60, 64, 67, 0.3), 0px 1px 3px 1px rgba(60, 64, 67, 0.15);\n",
              "      fill: #174EA6;\n",
              "    }\n",
              "\n",
              "    [theme=dark] .colab-df-convert {\n",
              "      background-color: #3B4455;\n",
              "      fill: #D2E3FC;\n",
              "    }\n",
              "\n",
              "    [theme=dark] .colab-df-convert:hover {\n",
              "      background-color: #434B5C;\n",
              "      box-shadow: 0px 1px 3px 1px rgba(0, 0, 0, 0.15);\n",
              "      filter: drop-shadow(0px 1px 2px rgba(0, 0, 0, 0.3));\n",
              "      fill: #FFFFFF;\n",
              "    }\n",
              "  </style>\n",
              "\n",
              "      <script>\n",
              "        const buttonEl =\n",
              "          document.querySelector('#df-bf2e2b3a-e655-4102-814a-a92402b1c6b7 button.colab-df-convert');\n",
              "        buttonEl.style.display =\n",
              "          google.colab.kernel.accessAllowed ? 'block' : 'none';\n",
              "\n",
              "        async function convertToInteractive(key) {\n",
              "          const element = document.querySelector('#df-bf2e2b3a-e655-4102-814a-a92402b1c6b7');\n",
              "          const dataTable =\n",
              "            await google.colab.kernel.invokeFunction('convertToInteractive',\n",
              "                                                     [key], {});\n",
              "          if (!dataTable) return;\n",
              "\n",
              "          const docLinkHtml = 'Like what you see? Visit the ' +\n",
              "            '<a target=\"_blank\" href=https://colab.research.google.com/notebooks/data_table.ipynb>data table notebook</a>'\n",
              "            + ' to learn more about interactive tables.';\n",
              "          element.innerHTML = '';\n",
              "          dataTable['output_type'] = 'display_data';\n",
              "          await google.colab.output.renderOutput(dataTable, element);\n",
              "          const docLink = document.createElement('div');\n",
              "          docLink.innerHTML = docLinkHtml;\n",
              "          element.appendChild(docLink);\n",
              "        }\n",
              "      </script>\n",
              "    </div>\n",
              "  </div>\n",
              "  "
            ]
          },
          "metadata": {},
          "execution_count": 28
        }
      ]
    },
    {
      "cell_type": "markdown",
      "source": [
        "Dengan menggunakan z-skor dapat digunakan untuk mengidentifikasi dua kabupaten terpencil yang memiliki tingkat melek huruf yang sangat rendah. Tingkat literasi di dua kabupaten ini lebih dari 3 SD lebih dari 3 SD di bawah rata-rata angka melek huruf secara keseluruhan. Analisis ini memberikan informasi penting untuk dibagikan. Pemerintah mungkin perlu menyediakan lebih banyak dana dan sumber daya ke dua kabupaten ini dengan harapan dapat meningkatkan literasi secara signifikan."
      ],
      "metadata": {
        "id": "TyLKLJDFE3Tt"
      }
    }
  ]
}